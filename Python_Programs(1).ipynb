{
  "nbformat": 4,
  "nbformat_minor": 0,
  "metadata": {
    "colab": {
      "name": "Python_Programs(1).ipynb",
      "provenance": [],
      "collapsed_sections": [],
      "authorship_tag": "ABX9TyOJwhZrZHHsjfzfH51vTwIm",
      "include_colab_link": true
    },
    "kernelspec": {
      "name": "python3",
      "display_name": "Python 3"
    },
    "language_info": {
      "name": "python"
    }
  },
  "cells": [
    {
      "cell_type": "markdown",
      "metadata": {
        "id": "view-in-github",
        "colab_type": "text"
      },
      "source": [
        "<a href=\"https://colab.research.google.com/github/1Jigeesha/Python_Programs/blob/main/Python_Programs(1).ipynb\" target=\"_parent\"><img src=\"https://colab.research.google.com/assets/colab-badge.svg\" alt=\"Open In Colab\"/></a>"
      ]
    },
    {
      "cell_type": "markdown",
      "source": [
        "**Python Programs**"
      ],
      "metadata": {
        "id": "QT-XhJf3FB_3"
      }
    },
    {
      "cell_type": "code",
      "metadata": {
        "colab": {
          "base_uri": "https://localhost:8080/"
        },
        "id": "lNSZSyCz3sXp",
        "outputId": "ad5adc0b-5c60-4ee9-e0a7-fa642ce5988c"
      },
      "source": [
        "squares = [i**2 for i in range(10)]\n",
        "squares"
      ],
      "execution_count": null,
      "outputs": [
        {
          "output_type": "execute_result",
          "data": {
            "text/plain": [
              "[0, 1, 4, 9, 16, 25, 36, 49, 64, 81]"
            ]
          },
          "metadata": {},
          "execution_count": 13
        }
      ]
    },
    {
      "cell_type": "code",
      "source": [
        "n = int(input().strip())\n",
        "check = {True: \"Not Weird\", False: \"Weird\"}\n",
        "\n",
        "print(check[\n",
        "        n%2==0 and (\n",
        "            n in range(2,6) or \n",
        "            n > 20)\n",
        "    ])"
      ],
      "metadata": {
        "colab": {
          "base_uri": "https://localhost:8080/"
        },
        "id": "31-94MZX4FBK",
        "outputId": "9c17559b-2efb-44f5-a45a-c1fda4f61331"
      },
      "execution_count": null,
      "outputs": [
        {
          "output_type": "stream",
          "name": "stdout",
          "text": [
            "4\n",
            "Not Weird\n"
          ]
        }
      ]
    },
    {
      "cell_type": "code",
      "source": [
        "#!/bin/python3\n",
        "import sys\n",
        "\n",
        "N = int(input().strip())\n",
        "\n",
        "if N % 2:\n",
        "    print('Weird')\n",
        "elif not (N % 2) and N >= 2 and N <= 5:\n",
        "    print('Not Weird')\n",
        "elif not (N % 2) and N >= 6 and N <= 20:\n",
        "    print('Weird')\n",
        "elif not (N % 2) and N > 20:\n",
        "    print('Not Weird')"
      ],
      "metadata": {
        "colab": {
          "base_uri": "https://localhost:8080/"
        },
        "id": "ZEBuBo7Y4o3C",
        "outputId": "b3608132-33a0-4b5c-88b1-4efa73405939"
      },
      "execution_count": null,
      "outputs": [
        {
          "output_type": "stream",
          "name": "stdout",
          "text": [
            "4\n",
            "Not Weird\n"
          ]
        }
      ]
    },
    {
      "cell_type": "code",
      "source": [
        "#!/bin/python3\n",
        "\n",
        "import math\n",
        "import os\n",
        "import random\n",
        "import re\n",
        "import sys\n",
        "\n",
        "\n",
        "\n",
        "if __name__ == '__main__':\n",
        "    n = int(input().strip())\n",
        "\n",
        "    if n%2 != 0:\n",
        "        print(\"Weird\")\n",
        "    else:\n",
        "        if n>=2 and n<=5:\n",
        "            print(\"Not Weird\")\n",
        "        elif n>=6 and n<=20:\n",
        "            print(\"Weird\")\n",
        "        else:\n",
        "            print(\"Not Weird\")"
      ],
      "metadata": {
        "colab": {
          "base_uri": "https://localhost:8080/"
        },
        "id": "l3S0is23It_U",
        "outputId": "f35cd9c5-80b4-4aff-aae2-e49a852f9164"
      },
      "execution_count": null,
      "outputs": [
        {
          "output_type": "stream",
          "name": "stdout",
          "text": [
            "4\n",
            "Not Weird\n"
          ]
        }
      ]
    },
    {
      "cell_type": "code",
      "source": [
        "n= int(input())\n",
        "for i in range(0,n): print(i*i)"
      ],
      "metadata": {
        "colab": {
          "base_uri": "https://localhost:8080/"
        },
        "id": "13cCfW7GcqH8",
        "outputId": "3e618716-cd7c-4cd3-99a4-b8f308dadc61"
      },
      "execution_count": null,
      "outputs": [
        {
          "output_type": "stream",
          "name": "stdout",
          "text": [
            "5\n",
            "0\n",
            "1\n",
            "4\n",
            "9\n",
            "16\n"
          ]
        }
      ]
    },
    {
      "cell_type": "code",
      "source": [
        "def is_leap(year):\n",
        "    return year % 4 == 0 and (year % 400 == 0 or year % 100 != 0)\n",
        "\n",
        "year = int(input())\n",
        "print(is_leap(year))"
      ],
      "metadata": {
        "colab": {
          "base_uri": "https://localhost:8080/"
        },
        "id": "B62gPWnFJQWQ",
        "outputId": "99f8d3de-6a10-4fea-f7e1-98b8d9b114e7"
      },
      "execution_count": null,
      "outputs": [
        {
          "output_type": "stream",
          "name": "stdout",
          "text": [
            "1800\n",
            "False\n"
          ]
        }
      ]
    },
    {
      "cell_type": "markdown",
      "source": [
        "**TCS IPA CODING QUESTION-1**"
      ],
      "metadata": {
        "id": "mtceixEjTIrQ"
      }
    },
    {
      "cell_type": "code",
      "source": [
        "def check(a):\n",
        "  a = a.replace(\" \",\"\")\n",
        "  if(a.isalpha()):\n",
        "    return True\n",
        "  else:\n",
        "    return False\n",
        "\n",
        "valid_str=0\n",
        "Invalid_str=0\n",
        "a=int(input())\n",
        "for i in range(a):\n",
        "  a=input()\n",
        "  if(check(a)):\n",
        "    valid_str +=1\n",
        "  else:\n",
        "    Invalid_str +=1\n",
        "\n",
        "print(\"Count of valid strings=\"+ str(valid_str))\n",
        "print(\"Count of Invalid strings=\"+ str(Invalid_str))"
      ],
      "metadata": {
        "id": "LuLi43pKoidn",
        "colab": {
          "base_uri": "https://localhost:8080/"
        },
        "outputId": "7a804f61-6871-40d2-f319-8fe59ac358d4"
      },
      "execution_count": 6,
      "outputs": [
        {
          "output_type": "stream",
          "name": "stdout",
          "text": [
            "2\n",
            "jigg22\n",
            "jiggi\n",
            "Count of valid strings=1\n",
            "Count of Invalid strings=1\n"
          ]
        }
      ]
    },
    {
      "cell_type": "markdown",
      "source": [
        ""
      ],
      "metadata": {
        "id": "GAg5_7PJTTO5"
      }
    },
    {
      "cell_type": "markdown",
      "source": [
        "**TCS IPA CODING QUESTION-2**"
      ],
      "metadata": {
        "id": "sxgcy_VlTODi"
      }
    },
    {
      "cell_type": "code",
      "source": [
        "\n",
        "class Employee:\n",
        "  def __init__ j(self,emp_name,desgi,salary,overTimeContribution,overTimeStatus=\"False\"):\n",
        "    self.emp_name= emp_name\n",
        "    self.desgi= desgi\n",
        "    self.salary= salary\n",
        "    self.overTimeContribution= overTimeContribution\n",
        "    self.overTimeStatus = overTimeStatus\n",
        "\n",
        "class Organisation(Employee):\n",
        "  def __init__(self,employee_list):\n",
        "    self.employee_list= employee_list\n",
        "\n",
        "  def overtimestatus(self,overtimethresold):\n",
        "    for i in self.employee_list:\n",
        "      if(int(sum(i.overTimeContribution.values()))>=int(overtimethresold)):\n",
        "        i.overTimeStatus=\"True\"\n",
        "    return self.employee_list\n",
        "\n",
        "  def totalamount(self,overtimehour):\n",
        "    total=0\n",
        "    for i in self.employee_list:\n",
        "      if(i.overTimeStatus == \"True\"):\n",
        "        total += int(sum(i.overTimeContribution.values()))*overtimehour\n",
        "    return total\n",
        "\n",
        "a=int(input())\n",
        "lst=[]\n",
        "for i in range(a):\n",
        "  emp_name= input()\n",
        "  desgi = input()\n",
        "  salary = int(input())\n",
        "  b = int(input())\n",
        "  dct={}\n",
        "  for i in range(b):\n",
        "    mon = input()\n",
        "    bon = int(input())\n",
        "    dct[mon.lower()]= bon\n",
        "  obj = Employee(emp_name,desgi,salary,dct)\n",
        "  lst.append(obj)  # lst.append(Employee(emp_name,desgi,salary,dct))\n",
        "obj= Organisation(lst)\n",
        "overtimethresold = int(input())\n",
        "rateperhour = int(input())\n",
        "lst = obj.overtimestatus(overtimethresold)\n",
        "for i in lst:\n",
        "  print(i.emp_name,i.overTimeStatus)\n",
        "total = obj.totalamount(rateperhour)\n",
        "print(total)\n"
      ],
      "metadata": {
        "id": "WZbA7cVfRCx3",
        "colab": {
          "base_uri": "https://localhost:8080/"
        },
        "outputId": "409e2be4-9823-4c7d-9d4b-371601d3cc19"
      },
      "execution_count": null,
      "outputs": [
        {
          "output_type": "stream",
          "name": "stdout",
          "text": [
            "5\n",
            "sunita\n",
            "faculty\n",
            "23000\n",
            "2\n",
            "jan\n",
            "4\n",
            "march\n",
            "6\n",
            "arun\n",
            "admin\n",
            "30000\n",
            "3\n",
            "feb\n",
            "4\n",
            "march\n",
            "12\n",
            "june\n",
            "10\n",
            "dipak\n",
            "admin\n",
            "25000\n",
            "3\n",
            "jan\n",
            "12\n",
            "july\n",
            "5\n",
            "aug\n",
            "3\n",
            "balen\n",
            "HR\n",
            "12000\n",
            "3\n",
            "jan\n",
            "12\n",
            "july\n",
            "5\n",
            "aug\n",
            "3\n",
            "tarun\n",
            "hr\n",
            "78000\n",
            "3\n",
            "jan\n",
            "12\n",
            "july\n",
            "5\n",
            "aug\n",
            "3\n",
            "18\n",
            "100\n",
            "sunita False\n",
            "arun True\n",
            "dipak True\n",
            "balen True\n",
            "tarun True\n",
            "8600\n"
          ]
        }
      ]
    },
    {
      "cell_type": "markdown",
      "source": [
        "**TCS IPA 2021 JAN 26 CODING QUESTION-1**"
      ],
      "metadata": {
        "id": "m1dvetYOTiXv"
      }
    },
    {
      "cell_type": "code",
      "source": [
        "n= int(input())\n",
        "sum=0\n",
        "for i in str(n):\n",
        "  sum += int(i)\n",
        "print(sum)\n",
        "print(\"True\" if sum%3==0 else \"False\")"
      ],
      "metadata": {
        "id": "5XO4Gec7jE_v",
        "colab": {
          "base_uri": "https://localhost:8080/"
        },
        "outputId": "3b115908-4f11-45f7-df9a-0bfe655bcc4a"
      },
      "execution_count": null,
      "outputs": [
        {
          "output_type": "stream",
          "name": "stdout",
          "text": [
            "125\n",
            "8\n",
            "False\n"
          ]
        }
      ]
    },
    {
      "cell_type": "markdown",
      "source": [
        "**TCS IPA 2021 JAN26 CODING QUESTION-2**"
      ],
      "metadata": {
        "id": "u6h6h0XGUpZJ"
      }
    },
    {
      "cell_type": "code",
      "source": [
        "class Passenger:\n",
        "    def __init__(self,name,age,distance):\n",
        "        self.name=name\n",
        "        self.age=age\n",
        "        self.distance=distance\n",
        "        \n",
        "def Cal_tick_price(pass_list,rate_pkm):\n",
        "    t_price=0\n",
        "    for passe in pass_list:\n",
        "        price=0\n",
        "        price+=passe.distance*rate_pkm\n",
        "        tax=0\n",
        "        if(passe.age>=60 or passe.age<12):\n",
        "            tax=0\n",
        "        elif(59>passe.age>21):\n",
        "            tax=0.12*price\n",
        "        elif(12>=passe.age>=20):\n",
        "            tax=0.1*price\n",
        "        price+=tax\n",
        "        t_price+=price\n",
        "    print(t_price)\n",
        "\n",
        "def Countseniorjunior(pass_list):\n",
        "    count=0\n",
        "    for passe in pass_list:\n",
        "        if(passe.age<12 or passe.age>=60):\n",
        "            count+=1\n",
        "    print(count)\n",
        "\n",
        " \n",
        "count=int(input())\n",
        "pass_list=[]\n",
        "for i in range(count):\n",
        "    nam=input()\n",
        "    ag=int(input())\n",
        "    dist=int(input())\n",
        "    pass_list.append(Passenger(nam,ag,dist))\n",
        "rate_per=int(input())\n",
        "\n",
        "    \n",
        "Cal_tick_price(pass_list,rate_per)\n",
        "Countseniorjunior(pass_list)\n",
        "  "
      ],
      "metadata": {
        "colab": {
          "base_uri": "https://localhost:8080/"
        },
        "id": "g2Eh3px7UoxX",
        "outputId": "659b0540-749c-4f49-e387-4d7fc0cba7fe"
      },
      "execution_count": null,
      "outputs": [
        {
          "output_type": "stream",
          "name": "stdout",
          "text": [
            "4\n",
            "jiggi\n",
            "21\n",
            "60\n",
            "lally\n",
            "22\n",
            "67\n",
            "Uma\n",
            "47\n",
            "112\n",
            "Bhadram\n",
            "56\n",
            "210\n",
            "200\n",
            "99136.0\n",
            "0\n"
          ]
        }
      ]
    },
    {
      "cell_type": "markdown",
      "source": [
        "**python coding question**"
      ],
      "metadata": {
        "id": "N2Y3pe89fE2U"
      }
    },
    {
      "cell_type": "code",
      "source": [
        "# Create a Painting class\n",
        "class Painting:\n",
        "   \n",
        "  # Create a constructor method\n",
        "  \"\"\"\n",
        "  pid for paintingID\n",
        "  pname for painterName\n",
        "  pprice for paintingPrice\n",
        "  ptype for painting type\n",
        "  \"\"\"\n",
        "  def __init__(self, arg1, arg2, arg3, arg4):\n",
        "    self.pid = arg1\n",
        "    self.pname = arg2\n",
        "    self.pprice = arg3\n",
        "    self.ptype = arg4\n",
        " \n",
        "# Create a ShowRoom class\n",
        "class ShowRoom :\n",
        " \n",
        "    # Create a constructor method\n",
        "    # plist for paintingList\n",
        "    def __init__(self, arg1):\n",
        "         self.plist = arg1\n",
        " \n",
        "    # Define method for this class\n",
        "    \"\"\"\n",
        "    It takes a string representing the painting type\n",
        "    as argument, and returns the total painting\n",
        "    price of the paintings of the given type\n",
        "    from the paintingList of the ShowRoom.\n",
        "    If no paintings of the given type is\n",
        "    present in the list then method returns None.\n",
        "    \"\"\"\n",
        "    def getTotalPaintingPrice(self, ptype) :\n",
        " \n",
        "        tprice = 0\n",
        "        flag = 0\n",
        "        for obj in self.plist :\n",
        "            if obj.ptype == ptype :\n",
        "                flag = 1\n",
        "                tprice += obj.pprice\n",
        " \n",
        "        if flag :\n",
        "            return tprice\n",
        "         \n",
        "        return None\n",
        " \n",
        "    # Define method for this class\n",
        "    \"\"\"\n",
        "    It finds the name of the painter from\n",
        "    the paintingList of the ShowRoom who\n",
        "    has the highest count of Paintings.\n",
        "    If more than one painter has highest\n",
        "    count of paintings, method returns that\n",
        "    name of the painter whose name comes first\n",
        "    as per the alphabetical orders(A-Z).\n",
        "    \"\"\"\n",
        "    def getPainterWithMaxCountOfPaintings(self) :\n",
        "        nameCount = {}\n",
        "        rslt = []\n",
        " \n",
        "        for obj in self.plist :\n",
        "            if obj.pname in nameCount:\n",
        "                nameCount[obj.pname] += 1\n",
        "            else :\n",
        "                nameCount[obj.pname] = 1\n",
        " \n",
        "        # sort a dictionary based on values\n",
        "        # returns list of tuples of key,value\n",
        "        sort = sorted(nameCount.items(), key = lambda x : x[1])\n",
        " \n",
        "        # takes last tuple element 2nd value\n",
        "        val = sort[-1][1]\n",
        " \n",
        "        \"\"\"\n",
        "        If more than one painter has highest\n",
        "        count of paintings, method returns that\n",
        "        name of the painter whose name comes first\n",
        "        as per the alphabetical orders(A-Z).\n",
        "        \"\"\"\n",
        "        for value in sort :\n",
        "            if val == value[1]:\n",
        "                rslt.append(value[0])\n",
        "                 \n",
        "        if len(rslt) > 1 :\n",
        "            rslt.sort()\n",
        "            return rslt[0]\n",
        "        else :\n",
        "            return sort[-1][0]\n",
        " \n",
        "# main program starts here   \n",
        "if __name__ == \"__main__\" :\n",
        " \n",
        "    # take input for number\n",
        "    # of Painting object created\n",
        "    n = int(input())\n",
        " \n",
        "    # take empty list\n",
        "    plist = []\n",
        " \n",
        "    # take values for particular object\n",
        "    for val in range(n) :\n",
        " \n",
        "        # case insensitiveness consider\n",
        "        val1 = input().lower()\n",
        "        val2 = input().lower()\n",
        "        val3 = int(input())\n",
        "        val4 = input().lower()\n",
        " \n",
        "        # create a object with initial value\n",
        "        pobj = Painting(val1, val2, val3, val4)\n",
        " \n",
        "        plist.append(pobj)\n",
        " \n",
        "    # create a object with initial value\n",
        "    sobj = ShowRoom(plist)\n",
        "     \n",
        "    ptype = input().lower()\n",
        " \n",
        "    # method called\n",
        "    rslt = sobj.getTotalPaintingPrice(ptype)\n",
        " \n",
        "    if rslt :\n",
        "        print(rslt)\n",
        " \n",
        "    else :\n",
        "        print(\"Painting not found\")\n",
        " \n",
        "    # method called\n",
        "    rslt = sobj.getPainterWithMaxCountOfPaintings()\n",
        "\n",
        "    print(rslt)"
      ],
      "metadata": {
        "colab": {
          "base_uri": "https://localhost:8080/"
        },
        "id": "Dp_W6xo2fCiz",
        "outputId": "c5aa85e3-fa8d-4d88-838b-f2d1cfd87e7e"
      },
      "execution_count": null,
      "outputs": [
        {
          "output_type": "stream",
          "name": "stdout",
          "text": [
            "5\n",
            "100\n",
            "j\n",
            "2100\n",
            "modern\n",
            "101\n",
            "k\n",
            "1200\n",
            "modern\n",
            "102\n",
            "l\n",
            "1350\n",
            "ethnic\n",
            "103\n",
            "m\n",
            "2200\n",
            "modern\n",
            "104\n",
            "n\n",
            "1500\n",
            "ethnic\n",
            "modern\n",
            "5500\n",
            "j\n"
          ]
        }
      ]
    },
    {
      "cell_type": "markdown",
      "source": [
        "TCS IPA jan 14,2022 coding question-1"
      ],
      "metadata": {
        "id": "9H1fc5jRB0T8"
      }
    },
    {
      "cell_type": "code",
      "source": [
        "def sum_digits(str):\n",
        "  sum=0\n",
        "  for i in str:\n",
        "    z= int(i)\n",
        "    sum+=z\n",
        "  return sum\n",
        "  \n",
        "str = input()\n",
        "check = sum_digits(str)\n",
        "if check%3==0:\n",
        "  print(True)\n",
        "else:\n",
        "  print(False)"
      ],
      "metadata": {
        "colab": {
          "base_uri": "https://localhost:8080/"
        },
        "id": "sk4eAPlbB6LS",
        "outputId": "ebffafe1-ea0c-4424-eb9a-b8977ad06011"
      },
      "execution_count": null,
      "outputs": [
        {
          "output_type": "stream",
          "name": "stdout",
          "text": [
            "123\n",
            "True\n"
          ]
        }
      ]
    },
    {
      "cell_type": "code",
      "source": [
        "x=input()\n",
        "y=input()\n",
        "z=float(x)*float(y)\n",
        "print(z)"
      ],
      "metadata": {
        "id": "fudtkqagW6LJ",
        "colab": {
          "base_uri": "https://localhost:8080/"
        },
        "outputId": "75e5968b-89bb-4f11-e31c-9409169c35de"
      },
      "execution_count": null,
      "outputs": [
        {
          "output_type": "stream",
          "name": "stdout",
          "text": [
            "50\n",
            "3.5\n",
            "175.0\n"
          ]
        }
      ]
    },
    {
      "cell_type": "code",
      "source": [
        "def count_words(string):\n",
        "    l=string.split()\n",
        "    s=set(l)\n",
        "    d={}\n",
        "    for i in s:\n",
        "        x=l.count(i)\n",
        "        d[i]=x\n",
        "    return d\n",
        "def max_occurance(string):\n",
        "    d=count_words(string)\n",
        "    l1=[]\n",
        "    for i in d.values():\n",
        "        l1.append(i)\n",
        "    max1=max(l1)\n",
        "    \n",
        "    \n",
        "    for i in d.keys():\n",
        "        if d[i]==max1:\n",
        "            return i\n",
        "string=input() \n",
        "print(count_words(string))    \n",
        "print(max_occurance(string))"
      ],
      "metadata": {
        "colab": {
          "base_uri": "https://localhost:8080/"
        },
        "id": "61T6hAWPuRur",
        "outputId": "7e14e94d-0928-47b3-bef6-b9b6bc28ff5d"
      },
      "execution_count": null,
      "outputs": [
        {
          "output_type": "stream",
          "name": "stdout",
          "text": [
            "hi hi hello hai hai welcome\n",
            "{'hai': 2, 'hello': 1, 'welcome': 1, 'hi': 2}\n",
            "hai\n"
          ]
        }
      ]
    },
    {
      "cell_type": "code",
      "source": [
        "def count(string):\n",
        "  l= string.split()\n",
        "  s=set(l)\n",
        "  d={}\n",
        "  for i in s:\n",
        "    x=l.count(i)\n",
        "    d[i]=x\n",
        "  return d\n",
        "\n",
        "def max_val(string):\n",
        "  d=count(string)\n",
        "  l1=[]\n",
        "  for i in d.values():\n",
        "    l1.append(i)\n",
        "  max1=max(l1)\n",
        "  for i in d.keys():\n",
        "    if d[i]==max:\n",
        "      return i\n",
        "\n",
        "string= input()\n",
        "print(max_val(string))\n",
        "print(count(string))"
      ],
      "metadata": {
        "colab": {
          "base_uri": "https://localhost:8080/"
        },
        "id": "sxF0V6LW4Nl8",
        "outputId": "fd998dd0-3545-459b-dc3a-6305865dd9dd"
      },
      "execution_count": null,
      "outputs": [
        {
          "output_type": "stream",
          "name": "stdout",
          "text": [
            "hi hello hai hai welcome\n",
            "None\n",
            "{'hai': 2, 'hi': 1, 'hello': 1, 'welcome': 1}\n"
          ]
        }
      ]
    },
    {
      "cell_type": "code",
      "source": [
        "s=\"jigee sh a\"\n",
        "l1=s.split()\n",
        "s1=set(l1)\n",
        "print(s1)"
      ],
      "metadata": {
        "id": "MkFGoCwp4dum",
        "colab": {
          "base_uri": "https://localhost:8080/"
        },
        "outputId": "18593be9-45c5-4d1a-81b0-8cc92bae8216"
      },
      "execution_count": 3,
      "outputs": [
        {
          "output_type": "stream",
          "name": "stdout",
          "text": [
            "{'a', 'jigee', 'sh'}\n"
          ]
        }
      ]
    },
    {
      "cell_type": "code",
      "source": [
        "def count_words(string):\n",
        "    l=string.split()\n",
        "    s=set(l)\n",
        "    d={}\n",
        "    for i in s:\n",
        "        x=l.count(i)\n",
        "        d[i]=x\n",
        "    return d\n",
        "string=input()\n",
        "print(count_words(string))"
      ],
      "metadata": {
        "colab": {
          "base_uri": "https://localhost:8080/"
        },
        "id": "WCV8F58fmprU",
        "outputId": "19204820-c2cd-49f6-9ff5-24c39493b053"
      },
      "execution_count": null,
      "outputs": [
        {
          "output_type": "stream",
          "name": "stdout",
          "text": [
            "hi hi hi hai hello\n",
            "{'hi': 3, 'hai': 1, 'hello': 1}\n"
          ]
        }
      ]
    },
    {
      "cell_type": "code",
      "source": [
        "sp=\"hi gm jiggi\"\n",
        "s1=sp.split()\n",
        "print(s1)\n",
        "s=set(s1)\n",
        "print(s)"
      ],
      "metadata": {
        "colab": {
          "base_uri": "https://localhost:8080/"
        },
        "id": "AbSDF1Hmm5_2",
        "outputId": "92015b39-d22f-4d18-a23c-c8886fb47de2"
      },
      "execution_count": null,
      "outputs": [
        {
          "output_type": "stream",
          "name": "stdout",
          "text": [
            "['hi', 'gm', 'jiggi']\n",
            "{'hi', 'gm', 'jiggi'}\n"
          ]
        }
      ]
    },
    {
      "cell_type": "code",
      "source": [
        "l=list(map(int,input().split(\",\")))\n",
        "l=sorted(l)\n",
        "n=len(l)\n",
        "q=[]\n",
        "for i in range(n):\n",
        "  if i%2==0:\n",
        "    q.append(l[i])\n",
        "  else:\n",
        "    q.insert(0,l[i])\n",
        "t=0\n",
        "for i in range(n):\n",
        "  if i==n-1:\n",
        "    t= max(t,abs(q[0]-q[i-1]))\n",
        "  else:\n",
        "    t=max(t,abs(q[i]-q[i+1]))\n",
        "print(t)"
      ],
      "metadata": {
        "id": "b9pE-k4qsQ5V",
        "colab": {
          "base_uri": "https://localhost:8080/"
        },
        "outputId": "e6cab848-e1d7-4005-fdbc-eff497138d4b"
      },
      "execution_count": 2,
      "outputs": [
        {
          "output_type": "stream",
          "name": "stdout",
          "text": [
            "10,13,100,12,112\n",
            "99\n"
          ]
        }
      ]
    },
    {
      "cell_type": "code",
      "source": [
        "#List comprehension\n",
        "x = int(input())\n",
        "y = int(input())\n",
        "z = int(input())\n",
        "n = int(input())\n",
        "print ([[a,b,c] for a in range(x+1) for b in range(y+1) for c in range(z+1) if a + b + c != n ])"
      ],
      "metadata": {
        "id": "vfmhIbduLKeZ",
        "colab": {
          "base_uri": "https://localhost:8080/"
        },
        "outputId": "cbc7f15d-d04a-4c19-c7cc-929971c87c42"
      },
      "execution_count": 1,
      "outputs": [
        {
          "output_type": "stream",
          "name": "stdout",
          "text": [
            "2\n",
            "2\n",
            "2\n",
            "3\n",
            "[[0, 0, 0], [0, 0, 1], [0, 0, 2], [0, 1, 0], [0, 1, 1], [0, 2, 0], [0, 2, 2], [1, 0, 0], [1, 0, 1], [1, 1, 0], [1, 1, 2], [1, 2, 1], [1, 2, 2], [2, 0, 0], [2, 0, 2], [2, 1, 1], [2, 1, 2], [2, 2, 0], [2, 2, 1], [2, 2, 2]]\n"
          ]
        }
      ]
    }
  ]
}